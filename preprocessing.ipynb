{
  "nbformat": 4,
  "nbformat_minor": 0,
  "metadata": {
    "colab": {
      "provenance": []
    },
    "kernelspec": {
      "name": "python3",
      "display_name": "Python 3"
    },
    "language_info": {
      "name": "python"
    }
  },
  "cells": [
    {
      "cell_type": "code",
      "execution_count": 11,
      "metadata": {
        "colab": {
          "base_uri": "https://localhost:8080/"
        },
        "id": "JU_LWTFbk_Pz",
        "outputId": "de28b930-c9cc-4684-beae-4b0ce5bf674c"
      },
      "outputs": [
        {
          "output_type": "stream",
          "name": "stdout",
          "text": [
            "Collecting boto3\n",
            "  Downloading boto3-1.35.74-py3-none-any.whl.metadata (6.7 kB)\n",
            "Collecting s3fs\n",
            "  Downloading s3fs-2024.10.0-py3-none-any.whl.metadata (1.7 kB)\n",
            "Collecting botocore<1.36.0,>=1.35.74 (from boto3)\n",
            "  Downloading botocore-1.35.74-py3-none-any.whl.metadata (5.7 kB)\n",
            "Collecting jmespath<2.0.0,>=0.7.1 (from boto3)\n",
            "  Downloading jmespath-1.0.1-py3-none-any.whl.metadata (7.6 kB)\n",
            "Collecting s3transfer<0.11.0,>=0.10.0 (from boto3)\n",
            "  Downloading s3transfer-0.10.4-py3-none-any.whl.metadata (1.7 kB)\n",
            "Collecting aiobotocore<3.0.0,>=2.5.4 (from s3fs)\n",
            "  Downloading aiobotocore-2.15.2-py3-none-any.whl.metadata (23 kB)\n",
            "Requirement already satisfied: fsspec==2024.10.0.* in /usr/local/lib/python3.10/dist-packages (from s3fs) (2024.10.0)\n",
            "Requirement already satisfied: aiohttp!=4.0.0a0,!=4.0.0a1 in /usr/local/lib/python3.10/dist-packages (from s3fs) (3.11.2)\n",
            "INFO: pip is looking at multiple versions of aiobotocore to determine which version is compatible with other requirements. This could take a while.\n",
            "  Downloading aiobotocore-2.15.1-py3-none-any.whl.metadata (23 kB)\n",
            "  Downloading aiobotocore-2.15.0-py3-none-any.whl.metadata (23 kB)\n",
            "  Downloading aiobotocore-2.14.0-py3-none-any.whl.metadata (23 kB)\n",
            "  Downloading aiobotocore-2.13.3-py3-none-any.whl.metadata (22 kB)\n",
            "  Downloading aiobotocore-2.13.2-py3-none-any.whl.metadata (22 kB)\n",
            "  Downloading aiobotocore-2.13.1-py3-none-any.whl.metadata (22 kB)\n",
            "  Downloading aiobotocore-2.13.0-py3-none-any.whl.metadata (21 kB)\n",
            "INFO: pip is still looking at multiple versions of aiobotocore to determine which version is compatible with other requirements. This could take a while.\n",
            "  Downloading aiobotocore-2.12.4-py3-none-any.whl.metadata (21 kB)\n",
            "  Downloading aiobotocore-2.12.3-py3-none-any.whl.metadata (21 kB)\n",
            "  Downloading aiobotocore-2.12.2-py3-none-any.whl.metadata (21 kB)\n",
            "  Downloading aiobotocore-2.12.1-py3-none-any.whl.metadata (21 kB)\n",
            "  Downloading aiobotocore-2.12.0-py3-none-any.whl.metadata (21 kB)\n",
            "INFO: This is taking longer than usual. You might need to provide the dependency resolver with stricter constraints to reduce runtime. See https://pip.pypa.io/warnings/backtracking for guidance. If you want to abort this run, press Ctrl + C.\n",
            "  Downloading aiobotocore-2.11.2-py3-none-any.whl.metadata (21 kB)\n",
            "  Downloading aiobotocore-2.11.1-py3-none-any.whl.metadata (21 kB)\n",
            "  Downloading aiobotocore-2.11.0-py3-none-any.whl.metadata (21 kB)\n",
            "  Downloading aiobotocore-2.10.0-py3-none-any.whl.metadata (20 kB)\n",
            "  Downloading aiobotocore-2.9.1-py3-none-any.whl.metadata (20 kB)\n",
            "  Downloading aiobotocore-2.9.0-py3-none-any.whl.metadata (20 kB)\n",
            "  Downloading aiobotocore-2.8.0-py3-none-any.whl.metadata (20 kB)\n",
            "  Downloading aiobotocore-2.7.0-py3-none-any.whl.metadata (20 kB)\n",
            "  Downloading aiobotocore-2.6.0-py3-none-any.whl.metadata (19 kB)\n",
            "  Downloading aiobotocore-2.5.4-py3-none-any.whl.metadata (19 kB)\n",
            "Collecting s3fs\n",
            "  Downloading s3fs-2024.9.0-py3-none-any.whl.metadata (1.6 kB)\n",
            "Requirement already satisfied: python-dateutil<3.0.0,>=2.1 in /usr/local/lib/python3.10/dist-packages (from botocore<1.36.0,>=1.35.74->boto3) (2.8.2)\n",
            "Requirement already satisfied: urllib3!=2.2.0,<3,>=1.25.4 in /usr/local/lib/python3.10/dist-packages (from botocore<1.36.0,>=1.35.74->boto3) (2.2.3)\n",
            "Collecting fsspec==2024.9.0.* (from s3fs)\n",
            "  Downloading fsspec-2024.9.0-py3-none-any.whl.metadata (11 kB)\n",
            "Collecting s3fs\n",
            "  Downloading s3fs-2024.6.1-py3-none-any.whl.metadata (1.6 kB)\n",
            "Collecting fsspec==2024.6.1.* (from s3fs)\n",
            "  Downloading fsspec-2024.6.1-py3-none-any.whl.metadata (11 kB)\n",
            "Collecting s3fs\n",
            "  Downloading s3fs-2024.6.0-py3-none-any.whl.metadata (1.6 kB)\n",
            "Collecting fsspec==2024.6.0.* (from s3fs)\n",
            "  Downloading fsspec-2024.6.0-py3-none-any.whl.metadata (11 kB)\n",
            "Collecting s3fs\n",
            "  Downloading s3fs-2024.5.0-py3-none-any.whl.metadata (1.6 kB)\n",
            "Collecting fsspec==2024.5.0.* (from s3fs)\n",
            "  Downloading fsspec-2024.5.0-py3-none-any.whl.metadata (11 kB)\n",
            "Collecting s3fs\n",
            "  Downloading s3fs-2024.3.1-py3-none-any.whl.metadata (1.6 kB)\n",
            "Collecting fsspec==2024.3.1 (from s3fs)\n",
            "  Downloading fsspec-2024.3.1-py3-none-any.whl.metadata (6.8 kB)\n",
            "Collecting s3fs\n",
            "  Downloading s3fs-2024.3.0-py3-none-any.whl.metadata (1.6 kB)\n",
            "Collecting fsspec==2024.3.0 (from s3fs)\n",
            "  Downloading fsspec-2024.3.0-py3-none-any.whl.metadata (6.8 kB)\n",
            "Collecting s3fs\n",
            "  Downloading s3fs-2024.2.0-py3-none-any.whl.metadata (1.6 kB)\n",
            "Collecting fsspec==2024.2.0 (from s3fs)\n",
            "  Downloading fsspec-2024.2.0-py3-none-any.whl.metadata (6.8 kB)\n",
            "Collecting s3fs\n",
            "  Downloading s3fs-2023.12.2-py3-none-any.whl.metadata (1.6 kB)\n",
            "Collecting fsspec==2023.12.2 (from s3fs)\n",
            "  Downloading fsspec-2023.12.2-py3-none-any.whl.metadata (6.8 kB)\n",
            "Collecting s3fs\n",
            "  Downloading s3fs-2023.12.1-py3-none-any.whl.metadata (1.6 kB)\n",
            "Collecting fsspec==2023.12.1 (from s3fs)\n",
            "  Downloading fsspec-2023.12.1-py3-none-any.whl.metadata (6.8 kB)\n",
            "Collecting s3fs\n",
            "  Downloading s3fs-2023.10.0-py3-none-any.whl.metadata (1.6 kB)\n",
            "Collecting fsspec==2023.10.0 (from s3fs)\n",
            "  Downloading fsspec-2023.10.0-py3-none-any.whl.metadata (6.8 kB)\n",
            "Collecting s3fs\n",
            "  Downloading s3fs-2023.9.2-py3-none-any.whl.metadata (1.6 kB)\n",
            "Collecting fsspec==2023.9.2 (from s3fs)\n",
            "  Downloading fsspec-2023.9.2-py3-none-any.whl.metadata (6.7 kB)\n",
            "Collecting s3fs\n",
            "  Downloading s3fs-2023.9.1-py3-none-any.whl.metadata (1.6 kB)\n",
            "Collecting fsspec==2023.9.1 (from s3fs)\n",
            "  Downloading fsspec-2023.9.1-py3-none-any.whl.metadata (6.7 kB)\n",
            "Collecting s3fs\n",
            "  Downloading s3fs-2023.9.0-py3-none-any.whl.metadata (1.6 kB)\n",
            "Collecting fsspec==2023.9.0 (from s3fs)\n",
            "  Downloading fsspec-2023.9.0-py3-none-any.whl.metadata (6.7 kB)\n",
            "Collecting s3fs\n",
            "  Downloading s3fs-2023.6.0-py3-none-any.whl.metadata (1.6 kB)\n",
            "Collecting fsspec==2023.6.0 (from s3fs)\n",
            "  Downloading fsspec-2023.6.0-py3-none-any.whl.metadata (6.7 kB)\n",
            "Collecting aiobotocore~=2.5.0 (from s3fs)\n",
            "  Downloading aiobotocore-2.5.3-py3-none-any.whl.metadata (19 kB)\n",
            "  Downloading aiobotocore-2.5.2-py3-none-any.whl.metadata (19 kB)\n",
            "  Downloading aiobotocore-2.5.1-py3-none-any.whl.metadata (19 kB)\n",
            "  Downloading aiobotocore-2.5.0-py3-none-any.whl.metadata (19 kB)\n",
            "Collecting s3fs\n",
            "  Downloading s3fs-2023.5.0-py3-none-any.whl.metadata (1.6 kB)\n",
            "Collecting fsspec==2023.5.0 (from s3fs)\n",
            "  Downloading fsspec-2023.5.0-py3-none-any.whl.metadata (6.7 kB)\n",
            "Collecting s3fs\n",
            "  Downloading s3fs-2023.4.0-py3-none-any.whl.metadata (1.6 kB)\n",
            "Collecting fsspec==2023.4.0 (from s3fs)\n",
            "  Downloading fsspec-2023.4.0-py3-none-any.whl.metadata (6.7 kB)\n",
            "Collecting s3fs\n",
            "  Downloading s3fs-2023.3.0-py3-none-any.whl.metadata (1.6 kB)\n",
            "Collecting aiobotocore~=2.4.2 (from s3fs)\n",
            "  Downloading aiobotocore-2.4.2-py3-none-any.whl.metadata (19 kB)\n",
            "Collecting fsspec==2023.3.0 (from s3fs)\n",
            "  Downloading fsspec-2023.3.0-py3-none-any.whl.metadata (5.5 kB)\n",
            "Collecting s3fs\n",
            "  Downloading s3fs-2023.1.0-py3-none-any.whl.metadata (1.5 kB)\n",
            "Collecting fsspec==2023.1.0 (from s3fs)\n",
            "  Downloading fsspec-2023.1.0-py3-none-any.whl.metadata (5.5 kB)\n",
            "Collecting s3fs\n",
            "  Downloading s3fs-2022.11.0-py3-none-any.whl.metadata (1.5 kB)\n",
            "Collecting fsspec==2022.11.0 (from s3fs)\n",
            "  Downloading fsspec-2022.11.0-py3-none-any.whl.metadata (5.6 kB)\n",
            "Collecting aiobotocore~=2.4.0 (from s3fs)\n",
            "  Downloading aiobotocore-2.4.1-py3-none-any.whl.metadata (19 kB)\n",
            "  Downloading aiobotocore-2.4.0-py3-none-any.whl.metadata (19 kB)\n",
            "Collecting s3fs\n",
            "  Downloading s3fs-2022.10.0-py3-none-any.whl.metadata (1.5 kB)\n",
            "Collecting fsspec==2022.10.0 (from s3fs)\n",
            "  Downloading fsspec-2022.10.0-py3-none-any.whl.metadata (5.6 kB)\n",
            "Collecting s3fs\n",
            "  Downloading s3fs-2022.8.2-py3-none-any.whl.metadata (1.6 kB)\n",
            "Collecting fsspec==2022.8.2 (from s3fs)\n",
            "  Downloading fsspec-2022.8.2-py3-none-any.whl.metadata (5.6 kB)\n",
            "Collecting s3fs\n",
            "  Downloading s3fs-2022.8.1-py3-none-any.whl.metadata (1.6 kB)\n",
            "Collecting fsspec==2022.8.1 (from s3fs)\n",
            "  Downloading fsspec-2022.8.1-py3-none-any.whl.metadata (5.6 kB)\n",
            "Collecting s3fs\n",
            "  Downloading s3fs-2022.8.0-py3-none-any.whl.metadata (1.6 kB)\n",
            "Collecting fsspec==2022.8.0 (from s3fs)\n",
            "  Downloading fsspec-2022.8.0-py3-none-any.whl.metadata (5.6 kB)\n",
            "Collecting s3fs\n",
            "  Downloading s3fs-2022.7.1-py3-none-any.whl.metadata (1.5 kB)\n",
            "Collecting aiobotocore~=2.3.4 (from s3fs)\n",
            "  Downloading aiobotocore-2.3.4-py3-none-any.whl.metadata (19 kB)\n",
            "Collecting fsspec==2022.7.1 (from s3fs)\n",
            "  Downloading fsspec-2022.7.1-py3-none-any.whl.metadata (5.6 kB)\n",
            "Collecting s3fs\n",
            "  Downloading s3fs-2022.7.0-py3-none-any.whl.metadata (1.5 kB)\n",
            "Collecting fsspec==2022.7.0 (from s3fs)\n",
            "  Downloading fsspec-2022.7.0-py3-none-any.whl.metadata (5.6 kB)\n",
            "Collecting s3fs\n",
            "  Downloading s3fs-2022.5.0-py3-none-any.whl.metadata (1.5 kB)\n",
            "Collecting fsspec==2022.5.0 (from s3fs)\n",
            "  Downloading fsspec-2022.5.0-py3-none-any.whl.metadata (5.5 kB)\n",
            "Collecting aiobotocore~=2.3.0 (from s3fs)\n",
            "  Downloading aiobotocore-2.3.3.tar.gz (65 kB)\n",
            "\u001b[2K     \u001b[90m━━━━━━━━━━━━━━━━━━━━━━━━━━━━━━━━━━━━━━━━\u001b[0m \u001b[32m65.7/65.7 kB\u001b[0m \u001b[31m2.3 MB/s\u001b[0m eta \u001b[36m0:00:00\u001b[0m\n",
            "\u001b[?25h  Preparing metadata (setup.py) ... \u001b[?25l\u001b[?25hdone\n",
            "  Downloading aiobotocore-2.3.2.tar.gz (104 kB)\n",
            "\u001b[2K     \u001b[90m━━━━━━━━━━━━━━━━━━━━━━━━━━━━━━━━━━━━━━━━\u001b[0m \u001b[32m104.8/104.8 kB\u001b[0m \u001b[31m6.9 MB/s\u001b[0m eta \u001b[36m0:00:00\u001b[0m\n",
            "\u001b[?25h  Preparing metadata (setup.py) ... \u001b[?25l\u001b[?25hdone\n",
            "  Downloading aiobotocore-2.3.1.tar.gz (65 kB)\n",
            "\u001b[2K     \u001b[90m━━━━━━━━━━━━━━━━━━━━━━━━━━━━━━━━━━━━━━━━\u001b[0m \u001b[32m65.3/65.3 kB\u001b[0m \u001b[31m5.7 MB/s\u001b[0m eta \u001b[36m0:00:00\u001b[0m\n",
            "\u001b[?25h  Preparing metadata (setup.py) ... \u001b[?25l\u001b[?25hdone\n",
            "  Downloading aiobotocore-2.3.0.tar.gz (65 kB)\n",
            "\u001b[2K     \u001b[90m━━━━━━━━━━━━━━━━━━━━━━━━━━━━━━━━━━━━━━━━\u001b[0m \u001b[32m65.1/65.1 kB\u001b[0m \u001b[31m5.4 MB/s\u001b[0m eta \u001b[36m0:00:00\u001b[0m\n",
            "\u001b[?25h  Preparing metadata (setup.py) ... \u001b[?25l\u001b[?25hdone\n",
            "Collecting s3fs\n",
            "  Downloading s3fs-2022.3.0-py3-none-any.whl.metadata (1.5 kB)\n",
            "Collecting aiobotocore~=2.2.0 (from s3fs)\n",
            "  Downloading aiobotocore-2.2.0.tar.gz (59 kB)\n",
            "\u001b[2K     \u001b[90m━━━━━━━━━━━━━━━━━━━━━━━━━━━━━━━━━━━━━━━━\u001b[0m \u001b[32m59.7/59.7 kB\u001b[0m \u001b[31m5.1 MB/s\u001b[0m eta \u001b[36m0:00:00\u001b[0m\n",
            "\u001b[?25h  Preparing metadata (setup.py) ... \u001b[?25l\u001b[?25hdone\n",
            "Collecting fsspec==2022.3.0 (from s3fs)\n",
            "  Downloading fsspec-2022.3.0-py3-none-any.whl.metadata (5.5 kB)\n",
            "Collecting s3fs\n",
            "  Downloading s3fs-2022.2.0-py3-none-any.whl.metadata (1.5 kB)\n",
            "Collecting aiobotocore~=2.1.0 (from s3fs)\n",
            "  Downloading aiobotocore-2.1.2-py3-none-any.whl.metadata (18 kB)\n",
            "Collecting fsspec==2022.02.0 (from s3fs)\n",
            "  Downloading fsspec-2022.2.0-py3-none-any.whl.metadata (5.3 kB)\n",
            "Collecting aiobotocore~=2.1.0 (from s3fs)\n",
            "  Downloading aiobotocore-2.1.1.tar.gz (57 kB)\n",
            "\u001b[2K     \u001b[90m━━━━━━━━━━━━━━━━━━━━━━━━━━━━━━━━━━━━━━━━\u001b[0m \u001b[32m57.5/57.5 kB\u001b[0m \u001b[31m4.6 MB/s\u001b[0m eta \u001b[36m0:00:00\u001b[0m\n",
            "\u001b[?25h  Preparing metadata (setup.py) ... \u001b[?25l\u001b[?25hdone\n",
            "  Downloading aiobotocore-2.1.0.tar.gz (54 kB)\n",
            "\u001b[2K     \u001b[90m━━━━━━━━━━━━━━━━━━━━━━━━━━━━━━━━━━━━━━━━\u001b[0m \u001b[32m54.6/54.6 kB\u001b[0m \u001b[31m3.9 MB/s\u001b[0m eta \u001b[36m0:00:00\u001b[0m\n",
            "\u001b[?25h  Preparing metadata (setup.py) ... \u001b[?25l\u001b[?25hdone\n",
            "Collecting s3fs\n",
            "  Downloading s3fs-2022.1.0-py3-none-any.whl.metadata (1.6 kB)\n",
            "Collecting fsspec==2022.01.0 (from s3fs)\n",
            "  Downloading fsspec-2022.1.0-py3-none-any.whl.metadata (5.4 kB)\n",
            "Collecting s3fs\n",
            "  Downloading s3fs-2021.11.1-py3-none-any.whl.metadata (1.6 kB)\n",
            "Collecting aiobotocore~=2.0.1 (from s3fs)\n",
            "  Downloading aiobotocore-2.0.1.tar.gz (54 kB)\n",
            "\u001b[2K     \u001b[90m━━━━━━━━━━━━━━━━━━━━━━━━━━━━━━━━━━━━━━━━\u001b[0m \u001b[32m54.5/54.5 kB\u001b[0m \u001b[31m4.5 MB/s\u001b[0m eta \u001b[36m0:00:00\u001b[0m\n",
            "\u001b[?25h  Preparing metadata (setup.py) ... \u001b[?25l\u001b[?25hdone\n",
            "Collecting fsspec==2021.11.1 (from s3fs)\n",
            "  Downloading fsspec-2021.11.1-py3-none-any.whl.metadata (5.4 kB)\n",
            "Collecting s3fs\n",
            "  Downloading s3fs-2021.11.0-py3-none-any.whl.metadata (1.6 kB)\n",
            "Collecting aiobotocore~=1.4.1 (from s3fs)\n",
            "  Downloading aiobotocore-1.4.2.tar.gz (52 kB)\n",
            "\u001b[2K     \u001b[90m━━━━━━━━━━━━━━━━━━━━━━━━━━━━━━━━━━━━━━━━\u001b[0m \u001b[32m52.5/52.5 kB\u001b[0m \u001b[31m3.9 MB/s\u001b[0m eta \u001b[36m0:00:00\u001b[0m\n",
            "\u001b[?25h  Preparing metadata (setup.py) ... \u001b[?25l\u001b[?25hdone\n",
            "Collecting fsspec==2021.11.0 (from s3fs)\n",
            "  Downloading fsspec-2021.11.0-py3-none-any.whl.metadata (5.4 kB)\n",
            "Collecting aiobotocore~=1.4.1 (from s3fs)\n",
            "  Downloading aiobotocore-1.4.1.tar.gz (52 kB)\n",
            "\u001b[2K     \u001b[90m━━━━━━━━━━━━━━━━━━━━━━━━━━━━━━━━━━━━━━━━\u001b[0m \u001b[32m52.3/52.3 kB\u001b[0m \u001b[31m4.0 MB/s\u001b[0m eta \u001b[36m0:00:00\u001b[0m\n",
            "\u001b[?25h  Preparing metadata (setup.py) ... \u001b[?25l\u001b[?25hdone\n",
            "Collecting s3fs\n",
            "  Downloading s3fs-2021.10.1-py3-none-any.whl.metadata (1.5 kB)\n",
            "Collecting fsspec==2021.10.1 (from s3fs)\n",
            "  Downloading fsspec-2021.10.1-py3-none-any.whl.metadata (5.4 kB)\n",
            "Collecting s3fs\n",
            "  Downloading s3fs-2021.10.0-py3-none-any.whl.metadata (1.5 kB)\n",
            "Collecting fsspec==2021.10.0 (from s3fs)\n",
            "  Downloading fsspec-2021.10.0-py3-none-any.whl.metadata (5.4 kB)\n",
            "Collecting s3fs\n",
            "  Downloading s3fs-2021.9.0-py3-none-any.whl.metadata (1.5 kB)\n",
            "Collecting fsspec==2021.09.0 (from s3fs)\n",
            "  Downloading fsspec-2021.9.0-py3-none-any.whl.metadata (5.4 kB)\n",
            "Collecting s3fs\n",
            "  Downloading s3fs-2021.8.1-py3-none-any.whl.metadata (1.5 kB)\n",
            "Collecting fsspec==2021.08.1 (from s3fs)\n",
            "  Downloading fsspec-2021.8.1-py3-none-any.whl.metadata (5.0 kB)\n",
            "Collecting aiobotocore~=1.4.0 (from s3fs)\n",
            "  Downloading aiobotocore-1.4.0.tar.gz (51 kB)\n",
            "\u001b[2K     \u001b[90m━━━━━━━━━━━━━━━━━━━━━━━━━━━━━━━━━━━━━━━━\u001b[0m \u001b[32m51.6/51.6 kB\u001b[0m \u001b[31m4.2 MB/s\u001b[0m eta \u001b[36m0:00:00\u001b[0m\n",
            "\u001b[?25h  Preparing metadata (setup.py) ... \u001b[?25l\u001b[?25hdone\n",
            "Collecting s3fs\n",
            "  Downloading s3fs-2021.8.0-py3-none-any.whl.metadata (1.5 kB)\n",
            "Collecting fsspec==2021.07.0 (from s3fs)\n",
            "  Downloading fsspec-2021.7.0-py3-none-any.whl.metadata (5.0 kB)\n",
            "Collecting s3fs\n",
            "  Downloading s3fs-2021.7.0-py3-none-any.whl.metadata (1.5 kB)\n",
            "Collecting aiobotocore>=1.0.1 (from s3fs)\n",
            "  Downloading aiobotocore-2.0.0.tar.gz (52 kB)\n",
            "\u001b[2K     \u001b[90m━━━━━━━━━━━━━━━━━━━━━━━━━━━━━━━━━━━━━━━━\u001b[0m \u001b[32m53.0/53.0 kB\u001b[0m \u001b[31m4.4 MB/s\u001b[0m eta \u001b[36m0:00:00\u001b[0m\n",
            "\u001b[?25h  Preparing metadata (setup.py) ... \u001b[?25l\u001b[?25hdone\n",
            "  Downloading aiobotocore-1.3.3.tar.gz (50 kB)\n",
            "\u001b[2K     \u001b[90m━━━━━━━━━━━━━━━━━━━━━━━━━━━━━━━━━━━━━━━━\u001b[0m \u001b[32m50.6/50.6 kB\u001b[0m \u001b[31m4.5 MB/s\u001b[0m eta \u001b[36m0:00:00\u001b[0m\n",
            "\u001b[?25h  Preparing metadata (setup.py) ... \u001b[?25l\u001b[?25hdone\n",
            "  Downloading aiobotocore-1.3.2.tar.gz (49 kB)\n",
            "\u001b[2K     \u001b[90m━━━━━━━━━━━━━━━━━━━━━━━━━━━━━━━━━━━━━━━━\u001b[0m \u001b[32m49.1/49.1 kB\u001b[0m \u001b[31m3.0 MB/s\u001b[0m eta \u001b[36m0:00:00\u001b[0m\n",
            "\u001b[?25h  Preparing metadata (setup.py) ... \u001b[?25l\u001b[?25hdone\n",
            "  Downloading aiobotocore-1.3.1.tar.gz (48 kB)\n",
            "\u001b[2K     \u001b[90m━━━━━━━━━━━━━━━━━━━━━━━━━━━━━━━━━━━━━━━━\u001b[0m \u001b[32m48.8/48.8 kB\u001b[0m \u001b[31m3.9 MB/s\u001b[0m eta \u001b[36m0:00:00\u001b[0m\n",
            "\u001b[?25h  Preparing metadata (setup.py) ... \u001b[?25l\u001b[?25hdone\n",
            "  Downloading aiobotocore-1.3.0.tar.gz (48 kB)\n",
            "\u001b[2K     \u001b[90m━━━━━━━━━━━━━━━━━━━━━━━━━━━━━━━━━━━━━━━━\u001b[0m \u001b[32m48.2/48.2 kB\u001b[0m \u001b[31m3.3 MB/s\u001b[0m eta \u001b[36m0:00:00\u001b[0m\n",
            "\u001b[?25h  Preparing metadata (setup.py) ... \u001b[?25l\u001b[?25hdone\n",
            "  Downloading aiobotocore-1.2.2.tar.gz (48 kB)\n",
            "\u001b[2K     \u001b[90m━━━━━━━━━━━━━━━━━━━━━━━━━━━━━━━━━━━━━━━━\u001b[0m \u001b[32m48.1/48.1 kB\u001b[0m \u001b[31m4.0 MB/s\u001b[0m eta \u001b[36m0:00:00\u001b[0m\n",
            "\u001b[?25h  Preparing metadata (setup.py) ... \u001b[?25l\u001b[?25hdone\n",
            "  Downloading aiobotocore-1.2.1.tar.gz (48 kB)\n",
            "\u001b[2K     \u001b[90m━━━━━━━━━━━━━━━━━━━━━━━━━━━━━━━━━━━━━━━━\u001b[0m \u001b[32m48.0/48.0 kB\u001b[0m \u001b[31m3.7 MB/s\u001b[0m eta \u001b[36m0:00:00\u001b[0m\n",
            "\u001b[?25h  Preparing metadata (setup.py) ... \u001b[?25l\u001b[?25hdone\n",
            "  Downloading aiobotocore-1.2.0.tar.gz (47 kB)\n",
            "\u001b[2K     \u001b[90m━━━━━━━━━━━━━━━━━━━━━━━━━━━━━━━━━━━━━━━━\u001b[0m \u001b[32m47.3/47.3 kB\u001b[0m \u001b[31m3.7 MB/s\u001b[0m eta \u001b[36m0:00:00\u001b[0m\n",
            "\u001b[?25h  Preparing metadata (setup.py) ... \u001b[?25l\u001b[?25hdone\n",
            "  Downloading aiobotocore-1.1.2-py3-none-any.whl.metadata (13 kB)\n",
            "  Downloading aiobotocore-1.1.1-py3-none-any.whl.metadata (13 kB)\n",
            "  Downloading aiobotocore-1.1.0-py3-none-any.whl.metadata (13 kB)\n",
            "  Downloading aiobotocore-1.0.7-py3-none-any.whl.metadata (13 kB)\n",
            "  Downloading aiobotocore-1.0.6-py3-none-any.whl.metadata (13 kB)\n",
            "  Downloading aiobotocore-1.0.5-py3-none-any.whl.metadata (13 kB)\n",
            "  Downloading aiobotocore-1.0.4-py3-none-any.whl.metadata (12 kB)\n",
            "  Downloading aiobotocore-1.0.3-py3-none-any.whl.metadata (12 kB)\n",
            "  Downloading aiobotocore-1.0.2-py3-none-any.whl.metadata (11 kB)\n",
            "  Downloading aiobotocore-1.0.1-py3-none-any.whl.metadata (11 kB)\n",
            "Collecting s3fs\n",
            "  Downloading s3fs-2021.6.1-py3-none-any.whl.metadata (1.5 kB)\n",
            "Collecting fsspec==2021.06.1 (from s3fs)\n",
            "  Downloading fsspec-2021.6.1-py3-none-any.whl.metadata (5.2 kB)\n",
            "Collecting s3fs\n",
            "  Downloading s3fs-2021.6.0-py3-none-any.whl.metadata (1.5 kB)\n",
            "Collecting fsspec==2021.06.0 (from s3fs)\n",
            "  Downloading fsspec-2021.6.0-py3-none-any.whl.metadata (5.2 kB)\n",
            "Collecting s3fs\n",
            "  Downloading s3fs-2021.5.0-py3-none-any.whl.metadata (1.5 kB)\n",
            "Collecting fsspec==2021.05.0 (from s3fs)\n",
            "  Downloading fsspec-2021.5.0-py3-none-any.whl.metadata (5.2 kB)\n",
            "Collecting s3fs\n",
            "  Downloading s3fs-2021.4.0-py3-none-any.whl.metadata (1.5 kB)\n",
            "Collecting fsspec==2021.04.0 (from s3fs)\n",
            "  Downloading fsspec-2021.4.0-py3-none-any.whl.metadata (5.2 kB)\n",
            "Collecting s3fs\n",
            "  Downloading s3fs-0.6.0-py3-none-any.whl.metadata (1.4 kB)\n",
            "  Downloading s3fs-0.5.2-py3-none-any.whl.metadata (1.2 kB)\n",
            "  Downloading s3fs-0.5.1-py3-none-any.whl.metadata (1.3 kB)\n",
            "  Downloading s3fs-0.5.0-py3-none-any.whl.metadata (1.3 kB)\n",
            "  Downloading s3fs-0.4.2-py3-none-any.whl.metadata (1.3 kB)\n",
            "Requirement already satisfied: six>=1.5 in /usr/local/lib/python3.10/dist-packages (from python-dateutil<3.0.0,>=2.1->botocore<1.36.0,>=1.35.74->boto3) (1.16.0)\n",
            "Downloading boto3-1.35.74-py3-none-any.whl (139 kB)\n",
            "\u001b[2K   \u001b[90m━━━━━━━━━━━━━━━━━━━━━━━━━━━━━━━━━━━━━━━━\u001b[0m \u001b[32m139.2/139.2 kB\u001b[0m \u001b[31m11.3 MB/s\u001b[0m eta \u001b[36m0:00:00\u001b[0m\n",
            "\u001b[?25hDownloading botocore-1.35.74-py3-none-any.whl (13.2 MB)\n",
            "\u001b[2K   \u001b[90m━━━━━━━━━━━━━━━━━━━━━━━━━━━━━━━━━━━━━━━━\u001b[0m \u001b[32m13.2/13.2 MB\u001b[0m \u001b[31m84.8 MB/s\u001b[0m eta \u001b[36m0:00:00\u001b[0m\n",
            "\u001b[?25hDownloading s3fs-0.4.2-py3-none-any.whl (19 kB)\n",
            "Downloading jmespath-1.0.1-py3-none-any.whl (20 kB)\n",
            "Downloading s3transfer-0.10.4-py3-none-any.whl (83 kB)\n",
            "\u001b[2K   \u001b[90m━━━━━━━━━━━━━━━━━━━━━━━━━━━━━━━━━━━━━━━━\u001b[0m \u001b[32m83.2/83.2 kB\u001b[0m \u001b[31m7.0 MB/s\u001b[0m eta \u001b[36m0:00:00\u001b[0m\n",
            "\u001b[?25hInstalling collected packages: jmespath, botocore, s3transfer, s3fs, boto3\n",
            "Successfully installed boto3-1.35.74 botocore-1.35.74 jmespath-1.0.1 s3fs-0.4.2 s3transfer-0.10.4\n"
          ]
        }
      ],
      "source": [
        "from google.colab import userdata\n",
        "!pip install boto3 s3fs"
      ]
    },
    {
      "cell_type": "code",
      "source": [
        "AWS_ACCESS_KEY = userdata.get('AWS_ACCESS_KEY')"
      ],
      "metadata": {
        "id": "xaoupLZWlZcm"
      },
      "execution_count": 12,
      "outputs": []
    },
    {
      "cell_type": "code",
      "source": [
        "AWS_SECRET_KEY = userdata.get('AWS_SECRET_KEY')"
      ],
      "metadata": {
        "id": "RtKrqKNOllms"
      },
      "execution_count": 13,
      "outputs": []
    },
    {
      "cell_type": "code",
      "source": [
        "import boto3\n",
        "from pyspark.sql import SparkSession\n",
        "\n",
        "# Set up Spark session\n",
        "spark = SparkSession.builder \\\n",
        "    .appName(\"ReadS3WithBoto3\") \\\n",
        "    .getOrCreate()\n",
        "\n",
        "# Set up boto3 S3 client\n",
        "s3_client = boto3.client('s3', aws_access_key_id= AWS_ACCESS_KEY,\n",
        "                                 aws_secret_access_key= AWS_SECRET_KEY ,\n",
        "                                 region_name= \"us-east-1\")\n"
      ],
      "metadata": {
        "id": "_h5o2H4RlorG"
      },
      "execution_count": 26,
      "outputs": []
    },
    {
      "cell_type": "code",
      "source": [
        "bucket_name = \"dataengineeringprojbucket\"\n",
        "file_key = \"raw/uploaded_data.csv\"\n",
        "s3_client.download_file(bucket_name, file_key, \"data.csv\")"
      ],
      "metadata": {
        "id": "xJ2Sx7sooyx2"
      },
      "execution_count": 28,
      "outputs": []
    },
    {
      "cell_type": "code",
      "source": [
        "from pyspark.sql import SparkSession\n",
        "\n",
        "spark = SparkSession.builder \\\n",
        "    .appName(\"LoadCSVWithPySpark\") \\\n",
        "    .getOrCreate()\n",
        "\n",
        "file_path = \"data.csv\"\n",
        "\n",
        "df = spark.read.csv(file_path, header=True, inferSchema=True)\n",
        "\n",
        "\n",
        "df.show()\n",
        "\n",
        "\n",
        "df.printSchema()\n",
        "\n",
        "\n",
        "print(f\"Total rows: {df.count()}\")\n"
      ],
      "metadata": {
        "colab": {
          "base_uri": "https://localhost:8080/"
        },
        "id": "HsIj1G8Jru2m",
        "outputId": "7b0653bd-303f-4fe8-a2cd-19114d16a91d"
      },
      "execution_count": 31,
      "outputs": [
        {
          "output_type": "stream",
          "name": "stdout",
          "text": [
            "+---+----------+----------------------------+--------+---------------+-------------------------------------------------------------------------------------------------------------------+\n",
            "|  0|1467810369|Mon Apr 06 22:19:45 PDT 2009|NO_QUERY|_TheSpecialOne_|@switchfoot http://twitpic.com/2y1zl - Awww, that's a bummer.  You shoulda got David Carr of Third Day to do it. ;D|\n",
            "+---+----------+----------------------------+--------+---------------+-------------------------------------------------------------------------------------------------------------------+\n",
            "|  0|1467810672|        Mon Apr 06 22:19:...|NO_QUERY|  scotthamilton|                                                                                               is upset that he ...|\n",
            "|  0|1467810917|        Mon Apr 06 22:19:...|NO_QUERY|       mattycus|                                                                                               @Kenichan I dived...|\n",
            "|  0|1467811184|        Mon Apr 06 22:19:...|NO_QUERY|        ElleCTF|                                                                                               my whole body fee...|\n",
            "|  0|1467811193|        Mon Apr 06 22:19:...|NO_QUERY|         Karoli|                                                                                               @nationwideclass ...|\n",
            "|  0|1467811372|        Mon Apr 06 22:20:...|NO_QUERY|       joy_wolf|                                                                                               @Kwesidei not the...|\n",
            "|  0|1467811592|        Mon Apr 06 22:20:...|NO_QUERY|        mybirch|                                                                                                        Need a hug |\n",
            "|  0|1467811594|        Mon Apr 06 22:20:...|NO_QUERY|           coZZ|                                                                                               @LOLTrish hey  lo...|\n",
            "|  0|1467811795|        Mon Apr 06 22:20:...|NO_QUERY|2Hood4Hollywood|                                                                                               @Tatiana_K nope t...|\n",
            "|  0|1467812025|        Mon Apr 06 22:20:...|NO_QUERY|        mimismo|                                                                                               @twittera que me ...|\n",
            "|  0|1467812416|        Mon Apr 06 22:20:...|NO_QUERY| erinx3leannexo|                                                                                               spring break in p...|\n",
            "|  0|1467812579|        Mon Apr 06 22:20:...|NO_QUERY|   pardonlauren|                                                                                               I just re-pierced...|\n",
            "|  0|1467812723|        Mon Apr 06 22:20:...|NO_QUERY|           TLeC|                                                                                               @caregiving I cou...|\n",
            "|  0|1467812771|        Mon Apr 06 22:20:...|NO_QUERY|robrobbierobert|                                                                                               @octolinz16 It it...|\n",
            "|  0|1467812784|        Mon Apr 06 22:20:...|NO_QUERY|    bayofwolves|                                                                                               @smarrison i woul...|\n",
            "|  0|1467812799|        Mon Apr 06 22:20:...|NO_QUERY|     HairByJess|                                                                                               @iamjazzyfizzle I...|\n",
            "|  0|1467812964|        Mon Apr 06 22:20:...|NO_QUERY| lovesongwriter|                                                                                               Hollis' death sce...|\n",
            "|  0|1467813137|        Mon Apr 06 22:20:...|NO_QUERY|       armotley|                                                                                               about to file taxes |\n",
            "|  0|1467813579|        Mon Apr 06 22:20:...|NO_QUERY|     starkissed|                                                                                               @LettyA ahh ive a...|\n",
            "|  0|1467813782|        Mon Apr 06 22:20:...|NO_QUERY|      gi_gi_bee|                                                                                               @FakerPattyPattz ...|\n",
            "|  0|1467813985|        Mon Apr 06 22:20:...|NO_QUERY|         quanvu|                                                                                               @alydesigns i was...|\n",
            "+---+----------+----------------------------+--------+---------------+-------------------------------------------------------------------------------------------------------------------+\n",
            "only showing top 20 rows\n",
            "\n",
            "root\n",
            " |-- 0: integer (nullable = true)\n",
            " |-- 1467810369: long (nullable = true)\n",
            " |-- Mon Apr 06 22:19:45 PDT 2009: string (nullable = true)\n",
            " |-- NO_QUERY: string (nullable = true)\n",
            " |-- _TheSpecialOne_: string (nullable = true)\n",
            " |-- @switchfoot http://twitpic.com/2y1zl - Awww, that's a bummer.  You shoulda got David Carr of Third Day to do it. ;D: string (nullable = true)\n",
            "\n",
            "Total rows: 1599999\n"
          ]
        }
      ]
    },
    {
      "cell_type": "code",
      "source": [
        "columns = [\"sentiment\", \"id\", \"date\", \"query\", \"username\", \"content\"]"
      ],
      "metadata": {
        "id": "H7AoeEwJsdyf"
      },
      "execution_count": 32,
      "outputs": []
    },
    {
      "cell_type": "code",
      "source": [
        "data = df.toDF(*columns)"
      ],
      "metadata": {
        "id": "CD8mYqHftpb4"
      },
      "execution_count": 33,
      "outputs": []
    },
    {
      "cell_type": "code",
      "source": [
        "data.printSchema()"
      ],
      "metadata": {
        "colab": {
          "base_uri": "https://localhost:8080/"
        },
        "id": "EGUPHSV2tvq_",
        "outputId": "e0c59e03-f489-4eb9-f99e-27f15836662a"
      },
      "execution_count": 35,
      "outputs": [
        {
          "output_type": "stream",
          "name": "stdout",
          "text": [
            "root\n",
            " |-- sentiment: integer (nullable = true)\n",
            " |-- id: long (nullable = true)\n",
            " |-- date: string (nullable = true)\n",
            " |-- query: string (nullable = true)\n",
            " |-- username: string (nullable = true)\n",
            " |-- content: string (nullable = true)\n",
            "\n"
          ]
        }
      ]
    },
    {
      "cell_type": "code",
      "source": [
        "data.show(5)"
      ],
      "metadata": {
        "colab": {
          "base_uri": "https://localhost:8080/"
        },
        "id": "i8omn12xt0kK",
        "outputId": "c523fff6-897f-451d-f910-de98ae3f3004"
      },
      "execution_count": 36,
      "outputs": [
        {
          "output_type": "stream",
          "name": "stdout",
          "text": [
            "+---------+----------+--------------------+--------+-------------+--------------------+\n",
            "|sentiment|        id|                date|   query|     username|             content|\n",
            "+---------+----------+--------------------+--------+-------------+--------------------+\n",
            "|        0|1467810672|Mon Apr 06 22:19:...|NO_QUERY|scotthamilton|is upset that he ...|\n",
            "|        0|1467810917|Mon Apr 06 22:19:...|NO_QUERY|     mattycus|@Kenichan I dived...|\n",
            "|        0|1467811184|Mon Apr 06 22:19:...|NO_QUERY|      ElleCTF|my whole body fee...|\n",
            "|        0|1467811193|Mon Apr 06 22:19:...|NO_QUERY|       Karoli|@nationwideclass ...|\n",
            "|        0|1467811372|Mon Apr 06 22:20:...|NO_QUERY|     joy_wolf|@Kwesidei not the...|\n",
            "+---------+----------+--------------------+--------+-------------+--------------------+\n",
            "only showing top 5 rows\n",
            "\n"
          ]
        }
      ]
    },
    {
      "cell_type": "code",
      "source": [
        "# map sentiment to string\n",
        "from pyspark.sql.functions import udf\n",
        "from pyspark.sql.types import StringType\n",
        "decode_map = {0: \"NEGATIVE\", 2: \"NEUTRAL\", 4: \"POSITIVE\"}\n",
        "@udf(StringType())\n",
        "def decode_sentiment(label):\n",
        "    return decode_map.get(label, \"UNKNOWN\")\n",
        "data = data.withColumn(\"sentiment\", decode_sentiment(data.sentiment))"
      ],
      "metadata": {
        "id": "l0LofCtEt6ck"
      },
      "execution_count": 40,
      "outputs": []
    },
    {
      "cell_type": "code",
      "source": [
        "data.show(5)"
      ],
      "metadata": {
        "colab": {
          "base_uri": "https://localhost:8080/"
        },
        "id": "-RpUSD1duw_R",
        "outputId": "677ed04f-c3b7-4b2e-e6d8-32e9b87bd292"
      },
      "execution_count": 46,
      "outputs": [
        {
          "output_type": "stream",
          "name": "stdout",
          "text": [
            "+---------+----------+--------------------+--------+-------------+--------------------+\n",
            "|sentiment|        id|                date|   query|     username|             content|\n",
            "+---------+----------+--------------------+--------+-------------+--------------------+\n",
            "| NEGATIVE|1467810672|Mon Apr 06 22:19:...|NO_QUERY|scotthamilton|is upset that he ...|\n",
            "| NEGATIVE|1467810917|Mon Apr 06 22:19:...|NO_QUERY|     mattycus|@Kenichan I dived...|\n",
            "| NEGATIVE|1467811184|Mon Apr 06 22:19:...|NO_QUERY|      ElleCTF|my whole body fee...|\n",
            "| NEGATIVE|1467811193|Mon Apr 06 22:19:...|NO_QUERY|       Karoli|@nationwideclass ...|\n",
            "| NEGATIVE|1467811372|Mon Apr 06 22:20:...|NO_QUERY|     joy_wolf|@Kwesidei not the...|\n",
            "+---------+----------+--------------------+--------+-------------+--------------------+\n",
            "only showing top 5 rows\n",
            "\n"
          ]
        }
      ]
    },
    {
      "cell_type": "code",
      "source": [
        "from pyspark.sql.functions import udf, year, month, dayofmonth,hour\n",
        "from pyspark.sql.types import TimestampType\n",
        "from datetime import datetime\n",
        "@udf(returnType=TimestampType())\n",
        "def parse_date(date_str):\n",
        "    try:\n",
        "\n",
        "        date_without_tz = \" \".join(date_str.split()[:-2]) + \" \" + date_str.split()[-1]\n",
        "        return datetime.strptime(date_without_tz, \"%a %b %d %H:%M:%S %Y\")\n",
        "    except ValueError:\n",
        "        return None\n",
        "\n",
        "\n",
        "data = data.withColumn(\"parsed_date\", parse_date(data.date))\n",
        "\n",
        "\n",
        "data = data.withColumn(\"year\", year(data.parsed_date)) \\\n",
        "       .withColumn(\"month\", month(data.parsed_date)) \\\n",
        "       .withColumn(\"day\", dayofmonth(data.parsed_date)) \\\n",
        "       .withColumn(\"hour\", hour(data.parsed_date))\n",
        "\n",
        "data.select(\"sentiment\", \"id\", \"parsed_date\", \"year\", \"month\", \"day\", \"hour\").show()"
      ],
      "metadata": {
        "colab": {
          "base_uri": "https://localhost:8080/"
        },
        "id": "EVlgUwz6vAM3",
        "outputId": "30956474-95ab-42f0-c59b-9c4b9ed30656"
      },
      "execution_count": 58,
      "outputs": [
        {
          "output_type": "stream",
          "name": "stdout",
          "text": [
            "+---------+----------+-------------------+----+-----+---+----+\n",
            "|sentiment|        id|        parsed_date|year|month|day|hour|\n",
            "+---------+----------+-------------------+----+-----+---+----+\n",
            "| NEGATIVE|1467810672|2009-04-06 22:19:49|2009|    4|  6|  22|\n",
            "| NEGATIVE|1467810917|2009-04-06 22:19:53|2009|    4|  6|  22|\n",
            "| NEGATIVE|1467811184|2009-04-06 22:19:57|2009|    4|  6|  22|\n",
            "| NEGATIVE|1467811193|2009-04-06 22:19:57|2009|    4|  6|  22|\n",
            "| NEGATIVE|1467811372|2009-04-06 22:20:00|2009|    4|  6|  22|\n",
            "| NEGATIVE|1467811592|2009-04-06 22:20:03|2009|    4|  6|  22|\n",
            "| NEGATIVE|1467811594|2009-04-06 22:20:03|2009|    4|  6|  22|\n",
            "| NEGATIVE|1467811795|2009-04-06 22:20:05|2009|    4|  6|  22|\n",
            "| NEGATIVE|1467812025|2009-04-06 22:20:09|2009|    4|  6|  22|\n",
            "| NEGATIVE|1467812416|2009-04-06 22:20:16|2009|    4|  6|  22|\n",
            "| NEGATIVE|1467812579|2009-04-06 22:20:17|2009|    4|  6|  22|\n",
            "| NEGATIVE|1467812723|2009-04-06 22:20:19|2009|    4|  6|  22|\n",
            "| NEGATIVE|1467812771|2009-04-06 22:20:19|2009|    4|  6|  22|\n",
            "| NEGATIVE|1467812784|2009-04-06 22:20:20|2009|    4|  6|  22|\n",
            "| NEGATIVE|1467812799|2009-04-06 22:20:20|2009|    4|  6|  22|\n",
            "| NEGATIVE|1467812964|2009-04-06 22:20:22|2009|    4|  6|  22|\n",
            "| NEGATIVE|1467813137|2009-04-06 22:20:25|2009|    4|  6|  22|\n",
            "| NEGATIVE|1467813579|2009-04-06 22:20:31|2009|    4|  6|  22|\n",
            "| NEGATIVE|1467813782|2009-04-06 22:20:34|2009|    4|  6|  22|\n",
            "| NEGATIVE|1467813985|2009-04-06 22:20:37|2009|    4|  6|  22|\n",
            "+---------+----------+-------------------+----+-----+---+----+\n",
            "only showing top 20 rows\n",
            "\n"
          ]
        }
      ]
    },
    {
      "cell_type": "code",
      "source": [
        "data.show(5)"
      ],
      "metadata": {
        "colab": {
          "base_uri": "https://localhost:8080/"
        },
        "id": "wWqX8Ur3wZM8",
        "outputId": "bbcbb641-faa2-4b9b-e13a-e11eb13ddd54"
      },
      "execution_count": 57,
      "outputs": [
        {
          "output_type": "stream",
          "name": "stdout",
          "text": [
            "+---------+----------+--------------------+--------+-------------+--------------------+-------------------+----+-----+---+\n",
            "|sentiment|        id|                date|   query|     username|             content|        parsed_date|year|month|day|\n",
            "+---------+----------+--------------------+--------+-------------+--------------------+-------------------+----+-----+---+\n",
            "| NEGATIVE|1467810672|Mon Apr 06 22:19:...|NO_QUERY|scotthamilton|is upset that he ...|2009-04-06 22:19:49|2009|    4|  6|\n",
            "| NEGATIVE|1467810917|Mon Apr 06 22:19:...|NO_QUERY|     mattycus|@Kenichan I dived...|2009-04-06 22:19:53|2009|    4|  6|\n",
            "| NEGATIVE|1467811184|Mon Apr 06 22:19:...|NO_QUERY|      ElleCTF|my whole body fee...|2009-04-06 22:19:57|2009|    4|  6|\n",
            "| NEGATIVE|1467811193|Mon Apr 06 22:19:...|NO_QUERY|       Karoli|@nationwideclass ...|2009-04-06 22:19:57|2009|    4|  6|\n",
            "| NEGATIVE|1467811372|Mon Apr 06 22:20:...|NO_QUERY|     joy_wolf|@Kwesidei not the...|2009-04-06 22:20:00|2009|    4|  6|\n",
            "+---------+----------+--------------------+--------+-------------+--------------------+-------------------+----+-----+---+\n",
            "only showing top 5 rows\n",
            "\n"
          ]
        }
      ]
    },
    {
      "cell_type": "code",
      "source": [
        "#processing text\n",
        "from pyspark.sql import functions as F\n",
        "import re\n",
        "\n",
        "def remove_emojis(text):\n",
        "    emoji_pattern = re.compile(\"[\\U00010000-\\U0010ffff]\", flags=re.UNICODE)\n",
        "    return emoji_pattern.sub(r'', text)\n",
        "\n",
        "\n",
        "remove_emojis_udf = F.udf(remove_emojis)\n",
        "\n",
        "\n",
        "data = data.withColumn(\"clean_content\",\n",
        "                   F.lower(F.col(\"content\"))  #lowercase\n",
        "                   .alias(\"content_lower\")\n",
        "                  )\n",
        "\n",
        "data = data.withColumn(\"clean_content\",\n",
        "                   F.regexp_replace(F.col(\"clean_content\"), r\"http\\S+\", \"\")  #  URLs\n",
        "                   )\n",
        "\n",
        "data = data.withColumn(\"clean_content\",\n",
        "                   remove_emojis_udf(F.col(\"clean_content\"))  #  emojis\n",
        "                   )\n",
        "\n",
        "data = data.withColumn(\"clean_content\",\n",
        "                   F.regexp_replace(F.col(\"clean_content\"), r\"[^a-zA-Z\\s]\", \"\")  #special characters\n",
        "                   )\n",
        "\n",
        "# Show the processed DataFrame\n",
        "data.select(\"sentiment\", \"content\", \"clean_content\").show(truncate=False)"
      ],
      "metadata": {
        "colab": {
          "base_uri": "https://localhost:8080/"
        },
        "id": "WELARAGyzL1B",
        "outputId": "b3534cb6-2929-4adb-94c7-61004fbd4c98"
      },
      "execution_count": 60,
      "outputs": [
        {
          "output_type": "stream",
          "name": "stdout",
          "text": [
            "+---------+---------------------------------------------------------------------------------------------------------------------+-------------------------------------------------------------------------------------------------------------+\n",
            "|sentiment|content                                                                                                              |clean_content                                                                                                |\n",
            "+---------+---------------------------------------------------------------------------------------------------------------------+-------------------------------------------------------------------------------------------------------------+\n",
            "|NEGATIVE |is upset that he can't update his Facebook by texting it... and might cry as a result  School today also. Blah!      |is upset that he cant update his facebook by texting it and might cry as a result  school today also blah    |\n",
            "|NEGATIVE |@Kenichan I dived many times for the ball. Managed to save 50%  The rest go out of bounds                            |kenichan i dived many times for the ball managed to save   the rest go out of bounds                         |\n",
            "|NEGATIVE |my whole body feels itchy and like its on fire                                                                       |my whole body feels itchy and like its on fire                                                               |\n",
            "|NEGATIVE |@nationwideclass no, it's not behaving at all. i'm mad. why am i here? because I can't see you all over there.       |nationwideclass no its not behaving at all im mad why am i here because i cant see you all over there        |\n",
            "|NEGATIVE |@Kwesidei not the whole crew                                                                                         |kwesidei not the whole crew                                                                                  |\n",
            "|NEGATIVE |Need a hug                                                                                                           |need a hug                                                                                                   |\n",
            "|NEGATIVE |@LOLTrish hey  long time no see! Yes.. Rains a bit ,only a bit  LOL , I'm fine thanks , how's you ?                  |loltrish hey  long time no see yes rains a bit only a bit  lol  im fine thanks  hows you                     |\n",
            "|NEGATIVE |@Tatiana_K nope they didn't have it                                                                                  |tatianak nope they didnt have it                                                                             |\n",
            "|NEGATIVE |@twittera que me muera ?                                                                                             |twittera que me muera                                                                                        |\n",
            "|NEGATIVE |spring break in plain city... it's snowing                                                                           |spring break in plain city its snowing                                                                       |\n",
            "|NEGATIVE |I just re-pierced my ears                                                                                            |i just repierced my ears                                                                                     |\n",
            "|NEGATIVE |@caregiving I couldn't bear to watch it.  And I thought the UA loss was embarrassing . . . . .                       |caregiving i couldnt bear to watch it  and i thought the ua loss was embarrassing                            |\n",
            "|NEGATIVE |@octolinz16 It it counts, idk why I did either. you never talk to me anymore                                         |octolinz it it counts idk why i did either you never talk to me anymore                                      |\n",
            "|NEGATIVE |@smarrison i would've been the first, but i didn't have a gun.    not really though, zac snyder's just a doucheclown.|smarrison i wouldve been the first but i didnt have a gun    not really though zac snyders just a doucheclown|\n",
            "|NEGATIVE |@iamjazzyfizzle I wish I got to watch it with you!! I miss you and @iamlilnicki  how was the premiere?!              |iamjazzyfizzle i wish i got to watch it with you i miss you and iamlilnicki  how was the premiere            |\n",
            "|NEGATIVE |Hollis' death scene will hurt me severely to watch on film  wry is directors cut not out now?                        |hollis death scene will hurt me severely to watch on film  wry is directors cut not out now                  |\n",
            "|NEGATIVE |about to file taxes                                                                                                  |about to file taxes                                                                                          |\n",
            "|NEGATIVE |@LettyA ahh ive always wanted to see rent  love the soundtrack!!                                                     |lettya ahh ive always wanted to see rent  love the soundtrack                                                |\n",
            "|NEGATIVE |@FakerPattyPattz Oh dear. Were you drinking out of the forgotten table drinks?                                       |fakerpattypattz oh dear were you drinking out of the forgotten table drinks                                  |\n",
            "|NEGATIVE |@alydesigns i was out most of the day so didn't get much done                                                        |alydesigns i was out most of the day so didnt get much done                                                  |\n",
            "+---------+---------------------------------------------------------------------------------------------------------------------+-------------------------------------------------------------------------------------------------------------+\n",
            "only showing top 20 rows\n",
            "\n"
          ]
        }
      ]
    },
    {
      "cell_type": "code",
      "source": [
        "data.show(5)"
      ],
      "metadata": {
        "colab": {
          "base_uri": "https://localhost:8080/"
        },
        "id": "xnIXL-rNxBnA",
        "outputId": "60b2e025-ae12-4771-bc41-cf250e1fa491"
      },
      "execution_count": 61,
      "outputs": [
        {
          "output_type": "stream",
          "name": "stdout",
          "text": [
            "+---------+----------+--------------------+--------+-------------+--------------------+-------------------+----+-----+---+----+--------------------+\n",
            "|sentiment|        id|                date|   query|     username|             content|        parsed_date|year|month|day|hour|       clean_content|\n",
            "+---------+----------+--------------------+--------+-------------+--------------------+-------------------+----+-----+---+----+--------------------+\n",
            "| NEGATIVE|1467810672|Mon Apr 06 22:19:...|NO_QUERY|scotthamilton|is upset that he ...|2009-04-06 22:19:49|2009|    4|  6|  22|is upset that he ...|\n",
            "| NEGATIVE|1467810917|Mon Apr 06 22:19:...|NO_QUERY|     mattycus|@Kenichan I dived...|2009-04-06 22:19:53|2009|    4|  6|  22|kenichan i dived ...|\n",
            "| NEGATIVE|1467811184|Mon Apr 06 22:19:...|NO_QUERY|      ElleCTF|my whole body fee...|2009-04-06 22:19:57|2009|    4|  6|  22|my whole body fee...|\n",
            "| NEGATIVE|1467811193|Mon Apr 06 22:19:...|NO_QUERY|       Karoli|@nationwideclass ...|2009-04-06 22:19:57|2009|    4|  6|  22|nationwideclass n...|\n",
            "| NEGATIVE|1467811372|Mon Apr 06 22:20:...|NO_QUERY|     joy_wolf|@Kwesidei not the...|2009-04-06 22:20:00|2009|    4|  6|  22|kwesidei not the ...|\n",
            "+---------+----------+--------------------+--------+-------------+--------------------+-------------------+----+-----+---+----+--------------------+\n",
            "only showing top 5 rows\n",
            "\n"
          ]
        }
      ]
    },
    {
      "cell_type": "code",
      "source": [
        "final_data = data.select(\"id\", \"username\", \"clean_content\", \"year\", \"month\", \"day\", \"hour\", \"parsed_date\", \"sentiment\")"
      ],
      "metadata": {
        "id": "bp4AFGLj0NMc"
      },
      "execution_count": 62,
      "outputs": []
    },
    {
      "cell_type": "code",
      "source": [
        "final_data.show(5)"
      ],
      "metadata": {
        "colab": {
          "base_uri": "https://localhost:8080/"
        },
        "id": "rW8Z1oCn0pNX",
        "outputId": "64c2c466-964a-4a28-fae6-5e0d10ee5ea0"
      },
      "execution_count": 63,
      "outputs": [
        {
          "output_type": "stream",
          "name": "stdout",
          "text": [
            "+----------+-------------+--------------------+----+-----+---+----+-------------------+---------+\n",
            "|        id|     username|       clean_content|year|month|day|hour|        parsed_date|sentiment|\n",
            "+----------+-------------+--------------------+----+-----+---+----+-------------------+---------+\n",
            "|1467810672|scotthamilton|is upset that he ...|2009|    4|  6|  22|2009-04-06 22:19:49| NEGATIVE|\n",
            "|1467810917|     mattycus|kenichan i dived ...|2009|    4|  6|  22|2009-04-06 22:19:53| NEGATIVE|\n",
            "|1467811184|      ElleCTF|my whole body fee...|2009|    4|  6|  22|2009-04-06 22:19:57| NEGATIVE|\n",
            "|1467811193|       Karoli|nationwideclass n...|2009|    4|  6|  22|2009-04-06 22:19:57| NEGATIVE|\n",
            "|1467811372|     joy_wolf|kwesidei not the ...|2009|    4|  6|  22|2009-04-06 22:20:00| NEGATIVE|\n",
            "+----------+-------------+--------------------+----+-----+---+----+-------------------+---------+\n",
            "only showing top 5 rows\n",
            "\n"
          ]
        }
      ]
    },
    {
      "cell_type": "code",
      "source": [
        "local_path = \"out_data.csv\"\n",
        "final_data.coalesce(1).write.csv(local_path, header=True, mode=\"overwrite\")\n",
        "import os\n",
        "from glob import glob\n",
        "\n",
        "\n",
        "csv_file = glob(os.path.join(local_path, \"*.csv\"))[0]\n",
        "\n",
        "s3_file_path = \"cleaned/data.csv\"\n",
        "s3_client.upload_file(csv_file, bucket_name, s3_file_path)"
      ],
      "metadata": {
        "id": "kUrDyng-1O9D"
      },
      "execution_count": 66,
      "outputs": []
    },
    {
      "cell_type": "code",
      "source": [],
      "metadata": {
        "id": "JN-mCF5B2UK5"
      },
      "execution_count": null,
      "outputs": []
    }
  ]
}